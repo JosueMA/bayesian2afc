{
 "metadata": {
  "name": "",
  "signature": "sha256:a54628ffde146a3677b4921cd771f020bf5d25048536579eeb371d1e88767ee7"
 },
 "nbformat": 3,
 "nbformat_minor": 0,
 "worksheets": [
  {
   "cells": [
    {
     "cell_type": "heading",
     "level": 1,
     "metadata": {},
     "source": [
      "Produce 2AFC explanatory diagram"
     ]
    },
    {
     "cell_type": "markdown",
     "metadata": {},
     "source": [
      "This requires you to not use inline mode. To do this, launch IPython from the terminal with the command \n",
      "\n",
      "`ipython notebook --pylab`"
     ]
    },
    {
     "cell_type": "code",
     "collapsed": false,
     "input": [
      "import numpy as np\n",
      "import matplotlib.pyplot as plt\n",
      "\n",
      "# for normal distribution\n",
      "from scipy.stats import norm   "
     ],
     "language": "python",
     "metadata": {},
     "outputs": [],
     "prompt_number": 1
    },
    {
     "cell_type": "heading",
     "level": 2,
     "metadata": {},
     "source": [
      "Formatting issues"
     ]
    },
    {
     "cell_type": "markdown",
     "metadata": {},
     "source": [
      "The following allows latex rendering of text"
     ]
    },
    {
     "cell_type": "code",
     "collapsed": false,
     "input": [
      "from matplotlib import rc\n",
      "rc('font',**{'family':'sans-serif','sans-serif':['Helvetica']})\n",
      "## for Palatino and other serif fonts use:\n",
      "#rc('font',**{'family':'serif','serif':['Palatino']})\n",
      "rc('text', usetex=True)"
     ],
     "language": "python",
     "metadata": {},
     "outputs": [],
     "prompt_number": 2
    },
    {
     "cell_type": "code",
     "collapsed": false,
     "input": [],
     "language": "python",
     "metadata": {},
     "outputs": [],
     "prompt_number": 2
    },
    {
     "cell_type": "code",
     "collapsed": false,
     "input": [],
     "language": "python",
     "metadata": {},
     "outputs": [],
     "prompt_number": 2
    },
    {
     "cell_type": "code",
     "collapsed": false,
     "input": [
      "N=1000\n",
      "muS=1\n",
      "muN=0\n",
      "sigma=1\n",
      "SNx1 = np.random.normal(muS, sigma, 1000)\n",
      "SNx2 = np.random.normal(muN, sigma, 1000)\n",
      "\n",
      "NSx1 = np.random.normal(muN, sigma, 1000)\n",
      "NSx2 = np.random.normal(muS, sigma, 1000)"
     ],
     "language": "python",
     "metadata": {},
     "outputs": [],
     "prompt_number": 3
    },
    {
     "cell_type": "heading",
     "level": 2,
     "metadata": {},
     "source": [
      "Create a figure"
     ]
    },
    {
     "cell_type": "code",
     "collapsed": false,
     "input": [
      "clf() \n",
      "f = plt.figure(num=1, figsize=(8, 6), dpi=600, facecolor='none', edgecolor='k')"
     ],
     "language": "python",
     "metadata": {},
     "outputs": [],
     "prompt_number": 123
    },
    {
     "cell_type": "heading",
     "level": 2,
     "metadata": {},
     "source": [
      "First panel"
     ]
    },
    {
     "cell_type": "code",
     "collapsed": false,
     "input": [
      "ax1=plt.subplot(1,2,1, aspect='equal',axisbg='none')\n",
      "plt.rc('text', usetex=True)\n",
      "plt.scatter(SNx1, SNx2, s=15, c=[1,0.3,0.3], alpha=0.4, edgecolors='none')\n",
      "plt.scatter(NSx1, NSx2, s=15, c=[0.3,0.3,1], alpha=0.4, edgecolors='none')\n",
      "padding=sigma*3\n",
      "axis([muN-padding,muS+padding,muN-padding,muS+padding])\n",
      "\n",
      "\n",
      "\n",
      "\n",
      "ax1.tick_params(direction='out')\n",
      "\n",
      "# Move left and bottom spines outward by 10 points\n",
      "#ax1.spines['left'].set_position(('outward', 10))\n",
      "#ax1.spines['bottom'].set_position(('outward', 10))\n",
      "# Hide the right and top spines\n",
      "ax1.spines['right'].set_visible(False)\n",
      "ax1.spines['top'].set_visible(False)\n",
      "# Only show ticks on the left and bottom spines\n",
      "ax1.yaxis.set_ticks_position('left')\n",
      "ax1.xaxis.set_ticks_position('bottom')\n",
      "\n",
      "xlabel('$x_1$')\n",
      "ylabel('$x_2$')\n",
      "\n",
      "ax1.set_xticks([0,muS])\n",
      "ax1.set_yticks([0,muS])\n",
      "\n",
      "ax1.set_xticklabels(['$0$','$\\mu_S$'])\n",
      "ax1.set_yticklabels(['$0$','$\\mu_S$'])\n",
      "\n",
      "\n",
      "#plt.axis([-6, -6, 10, 10])\n",
      "\n",
      "# plot decision line\n",
      "plt.plot((-8,10),(-8,10),'k:')\n",
      "\n",
      "\n",
      "# Plot distance between centres\n",
      "plt.annotate ('', (muS,0), (0,muS), arrowprops={'arrowstyle':'<->'})\n",
      "#plt.text( muS,muS, '$\\sqrt{2\\mu_S^2}$', rotation=45)\n",
      "\n",
      "\n",
      "#plt.annotate(\n",
      "#    'D = 1', xy=(1, 9), xycoords = 'data',\n",
      "#    xytext = (5, 0), textcoords = 'offset points')\n",
      "\n",
      "\n",
      "\n",
      "plt.text( 3*muS,-2*muS, '$SN$')\n",
      "\n",
      "plt.text( -2*muS,3*muS, '$NS$')\n",
      "\n",
      "\n",
      "\n"
     ],
     "language": "python",
     "metadata": {},
     "outputs": [
      {
       "metadata": {},
       "output_type": "pyout",
       "prompt_number": 124,
       "text": [
        "<matplotlib.text.Text at 0x1205e5f10>"
       ]
      }
     ],
     "prompt_number": 124
    },
    {
     "cell_type": "heading",
     "level": 2,
     "metadata": {},
     "source": [
      "Create second panel"
     ]
    },
    {
     "cell_type": "code",
     "collapsed": false,
     "input": [
      "\n",
      "ax2 = plt.subplot(1,2,2, aspect=20,axisbg='none')\n",
      "plt.rc('text', usetex=True)\n",
      "\n",
      "xmin=-muS-5\n",
      "xmax=muS+5\n",
      "# vector of x values\n",
      "x=np.linspace(xmin,xmax,501)\n",
      "# create a corresponding vector of zeros for use later\n",
      "theFloor = np.zeros(dsn.size)\n",
      "# Calculate the y-values of the distributions\n",
      "dsn = norm.pdf(x,muS,sqrt(2)*sigma)\n",
      "dns = norm.pdf(x,-muS,sqrt(2)*sigma)\n",
      "maxy=np.max(dsn)\n",
      "plt.plot( x, dns,'b-')\n",
      "plt.plot( x, dsn,'r-')\n",
      "\n",
      "# Fill error regions\n",
      "ax2.fill_between(x, 0, dsn, where=x<=0, facecolor='r', alpha=0.5, edgecolor='none')\n",
      "ax2.fill_between(x, 0, dns, where=x>=0, facecolor='b', alpha=0.5, edgecolor='none')\n",
      "\n",
      "\n",
      "# Move left and bottom spines outward by 10 points\n",
      "#ax.spines['left'].set_position(('outward', 10))\n",
      "#ax.spines['bottom'].set_position(('outward', 10))\n",
      "# Hide the right and top spines\n",
      "ax2.spines['right'].set_visible(False)\n",
      "ax2.spines['top'].set_visible(False)\n",
      "ax2.spines['left'].set_visible(False)\n",
      "# Only show ticks on the left and bottom spines\n",
      "#ax2.yaxis.set_ticks_position('left')\n",
      "ax2.xaxis.set_ticks_position('bottom')\n",
      "\n",
      "ax2.tick_params(direction='out')\n",
      "\n",
      "xlabel('$d = x_1-x_2$')\n",
      "\n",
      "ax2.set_xticks([-muS,0,muS])\n",
      "ax2.set_yticks([])\n",
      "\n",
      "ax2.set_xticklabels(['$-\\mu_S$','$0$','$\\mu_S$'])\n",
      "\n",
      "# draw decision boundary\n",
      "plt.axvline(x=0, linestyle=':', color='k')\n",
      "\n",
      "\n",
      "# distribution labels\n",
      "plt.text( muS*2.7,maxy*0.5, '$d_{SN}$', \n",
      "         horizontalalignment='left',\n",
      "         color ='r')\n",
      "\n",
      "plt.text( -muS*2.7,maxy*0.5, '$d_{NS} $', \n",
      "         horizontalalignment='right',\n",
      "         color ='b')\n",
      "\n",
      "# Decision test\n",
      "plt.text(0.5, maxy*1.05, 'say ${SN}$', \n",
      "         horizontalalignment='left')\n",
      "\n",
      "plt.text(-0.5, maxy*1.05, 'say ${NS}$',\n",
      "         horizontalalignment='right')\n",
      "\n"
     ],
     "language": "python",
     "metadata": {},
     "outputs": [
      {
       "metadata": {},
       "output_type": "pyout",
       "prompt_number": 125,
       "text": [
        "<matplotlib.text.Text at 0x120611b10>"
       ]
      }
     ],
     "prompt_number": 125
    },
    {
     "cell_type": "code",
     "collapsed": false,
     "input": [],
     "language": "python",
     "metadata": {},
     "outputs": [],
     "prompt_number": 125
    },
    {
     "cell_type": "code",
     "collapsed": false,
     "input": [],
     "language": "python",
     "metadata": {},
     "outputs": [],
     "prompt_number": 125
    },
    {
     "cell_type": "heading",
     "level": 2,
     "metadata": {},
     "source": [
      "Save the figure as a pdf"
     ]
    },
    {
     "cell_type": "code",
     "collapsed": false,
     "input": [
      "# save it\n",
      "plt.savefig('testAFCplot.pdf',dpi=300, bbox_inches='tight', transparent=True)"
     ],
     "language": "python",
     "metadata": {},
     "outputs": [],
     "prompt_number": 126
    },
    {
     "cell_type": "code",
     "collapsed": false,
     "input": [],
     "language": "python",
     "metadata": {},
     "outputs": [],
     "prompt_number": 122
    },
    {
     "cell_type": "code",
     "collapsed": false,
     "input": [
      "?fill_between"
     ],
     "language": "python",
     "metadata": {},
     "outputs": [],
     "prompt_number": 129
    },
    {
     "cell_type": "code",
     "collapsed": false,
     "input": [],
     "language": "python",
     "metadata": {},
     "outputs": []
    }
   ],
   "metadata": {}
  }
 ]
}